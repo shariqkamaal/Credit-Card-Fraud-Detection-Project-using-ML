{
  "nbformat": 4,
  "nbformat_minor": 0,
  "metadata": {
    "colab": {
      "provenance": []
    },
    "kernelspec": {
      "name": "python3",
      "display_name": "Python 3"
    },
    "language_info": {
      "name": "python"
    }
  },
  "cells": [
    {
      "cell_type": "code",
      "execution_count": 1,
      "metadata": {
        "colab": {
          "base_uri": "https://localhost:8080/"
        },
        "id": "aGvtqjq-GdYn",
        "outputId": "a2117bd0-8e1d-48c4-bebe-c2a36814db7e"
      },
      "outputs": [
        {
          "output_type": "stream",
          "name": "stdout",
          "text": [
            "Collecting fastapi\n",
            "  Downloading fastapi-0.115.2-py3-none-any.whl.metadata (27 kB)\n",
            "Collecting uvicorn\n",
            "  Downloading uvicorn-0.32.0-py3-none-any.whl.metadata (6.6 kB)\n",
            "Collecting pyngrok\n",
            "  Downloading pyngrok-7.2.0-py3-none-any.whl.metadata (7.4 kB)\n",
            "Requirement already satisfied: joblib in /usr/local/lib/python3.10/dist-packages (1.4.2)\n",
            "Collecting starlette<0.41.0,>=0.37.2 (from fastapi)\n",
            "  Downloading starlette-0.40.0-py3-none-any.whl.metadata (6.0 kB)\n",
            "Requirement already satisfied: pydantic!=1.8,!=1.8.1,!=2.0.0,!=2.0.1,!=2.1.0,<3.0.0,>=1.7.4 in /usr/local/lib/python3.10/dist-packages (from fastapi) (2.9.2)\n",
            "Requirement already satisfied: typing-extensions>=4.8.0 in /usr/local/lib/python3.10/dist-packages (from fastapi) (4.12.2)\n",
            "Requirement already satisfied: click>=7.0 in /usr/local/lib/python3.10/dist-packages (from uvicorn) (8.1.7)\n",
            "Collecting h11>=0.8 (from uvicorn)\n",
            "  Downloading h11-0.14.0-py3-none-any.whl.metadata (8.2 kB)\n",
            "Requirement already satisfied: PyYAML>=5.1 in /usr/local/lib/python3.10/dist-packages (from pyngrok) (6.0.2)\n",
            "Requirement already satisfied: annotated-types>=0.6.0 in /usr/local/lib/python3.10/dist-packages (from pydantic!=1.8,!=1.8.1,!=2.0.0,!=2.0.1,!=2.1.0,<3.0.0,>=1.7.4->fastapi) (0.7.0)\n",
            "Requirement already satisfied: pydantic-core==2.23.4 in /usr/local/lib/python3.10/dist-packages (from pydantic!=1.8,!=1.8.1,!=2.0.0,!=2.0.1,!=2.1.0,<3.0.0,>=1.7.4->fastapi) (2.23.4)\n",
            "Requirement already satisfied: anyio<5,>=3.4.0 in /usr/local/lib/python3.10/dist-packages (from starlette<0.41.0,>=0.37.2->fastapi) (3.7.1)\n",
            "Requirement already satisfied: idna>=2.8 in /usr/local/lib/python3.10/dist-packages (from anyio<5,>=3.4.0->starlette<0.41.0,>=0.37.2->fastapi) (3.10)\n",
            "Requirement already satisfied: sniffio>=1.1 in /usr/local/lib/python3.10/dist-packages (from anyio<5,>=3.4.0->starlette<0.41.0,>=0.37.2->fastapi) (1.3.1)\n",
            "Requirement already satisfied: exceptiongroup in /usr/local/lib/python3.10/dist-packages (from anyio<5,>=3.4.0->starlette<0.41.0,>=0.37.2->fastapi) (1.2.2)\n",
            "Downloading fastapi-0.115.2-py3-none-any.whl (94 kB)\n",
            "\u001b[2K   \u001b[90m━━━━━━━━━━━━━━━━━━━━━━━━━━━━━━━━━━━━━━━━\u001b[0m \u001b[32m94.7/94.7 kB\u001b[0m \u001b[31m4.4 MB/s\u001b[0m eta \u001b[36m0:00:00\u001b[0m\n",
            "\u001b[?25hDownloading uvicorn-0.32.0-py3-none-any.whl (63 kB)\n",
            "\u001b[2K   \u001b[90m━━━━━━━━━━━━━━━━━━━━━━━━━━━━━━━━━━━━━━━━\u001b[0m \u001b[32m63.7/63.7 kB\u001b[0m \u001b[31m3.3 MB/s\u001b[0m eta \u001b[36m0:00:00\u001b[0m\n",
            "\u001b[?25hDownloading pyngrok-7.2.0-py3-none-any.whl (22 kB)\n",
            "Downloading h11-0.14.0-py3-none-any.whl (58 kB)\n",
            "\u001b[2K   \u001b[90m━━━━━━━━━━━━━━━━━━━━━━━━━━━━━━━━━━━━━━━━\u001b[0m \u001b[32m58.3/58.3 kB\u001b[0m \u001b[31m2.2 MB/s\u001b[0m eta \u001b[36m0:00:00\u001b[0m\n",
            "\u001b[?25hDownloading starlette-0.40.0-py3-none-any.whl (73 kB)\n",
            "\u001b[2K   \u001b[90m━━━━━━━━━━━━━━━━━━━━━━━━━━━━━━━━━━━━━━━━\u001b[0m \u001b[32m73.3/73.3 kB\u001b[0m \u001b[31m3.7 MB/s\u001b[0m eta \u001b[36m0:00:00\u001b[0m\n",
            "\u001b[?25hInstalling collected packages: pyngrok, h11, uvicorn, starlette, fastapi\n",
            "Successfully installed fastapi-0.115.2 h11-0.14.0 pyngrok-7.2.0 starlette-0.40.0 uvicorn-0.32.0\n"
          ]
        }
      ],
      "source": [
        "!pip install fastapi uvicorn pyngrok joblib\n"
      ]
    },
    {
      "cell_type": "code",
      "source": [
        "from fastapi import FastAPI\n",
        "from pydantic import BaseModel\n",
        "import pickle\n",
        "import json\n",
        "import joblib\n",
        "import uvicorn\n",
        "from pyngrok import ngrok\n",
        "from fastapi.middleware.cors import CORSMiddleware\n",
        "import nest_asyncio"
      ],
      "metadata": {
        "id": "3kJ7UhW7Gpo_"
      },
      "execution_count": 4,
      "outputs": []
    },
    {
      "cell_type": "code",
      "source": [
        "model = joblib.load('/content/sample_data/Credit_card_model.sav')"
      ],
      "metadata": {
        "id": "VvgyAJjSG0fu"
      },
      "execution_count": 5,
      "outputs": []
    },
    {
      "cell_type": "code",
      "source": [
        "!ngrok config add-authtoken 2nf2A2q4TEO3UfUHTAr2OhNSBP6_5z5T1Vtn5eb4CeeWLU7Qe\n"
      ],
      "metadata": {
        "colab": {
          "base_uri": "https://localhost:8080/"
        },
        "id": "F6aM94D-SqqD",
        "outputId": "204031ef-2b86-41db-8c35-753a44c9af14"
      },
      "execution_count": 6,
      "outputs": [
        {
          "output_type": "stream",
          "name": "stdout",
          "text": [
            "Authtoken saved to configuration file: /root/.config/ngrok/ngrok.yml\n"
          ]
        }
      ]
    },
    {
      "cell_type": "code",
      "source": [
        "import uvicorn\n",
        "from fastapi import FastAPI\n",
        "from pydantic import BaseModel\n",
        "from pyngrok import ngrok\n",
        "import nest_asyncio\n",
        "import pickle\n",
        "import numpy as np\n",
        "\n",
        "# Apply nest_asyncio to allow Colab to handle async loops\n",
        "nest_asyncio.apply()\n",
        "\n",
        "# Initialize FastAPI app\n",
        "app = FastAPI()\n",
        "\n",
        "# Load the saved model\n",
        "model = joblib.load('/content/sample_data/Credit_card_model.sav')\n",
        "\n",
        "# Define the request body structure using Pydantic\n",
        "class Transaction(BaseModel):\n",
        "    Time: float\n",
        "    V1: float\n",
        "    V2: float\n",
        "    V3: float\n",
        "    V4: float\n",
        "    V5: float\n",
        "    V6: float\n",
        "    V7: float\n",
        "    V8: float\n",
        "    V9: float\n",
        "    V10: float\n",
        "    V11: float\n",
        "    V12: float\n",
        "    V13: float\n",
        "    V14: float\n",
        "    V15: float\n",
        "    V16: float\n",
        "    V17: float\n",
        "    V18: float\n",
        "    V19: float\n",
        "    V20: float\n",
        "    V21: float\n",
        "    V22: float\n",
        "    V23: float\n",
        "    V24: float\n",
        "    V25: float\n",
        "    V26: float\n",
        "    V27: float\n",
        "    V28: float\n",
        "    Amount: float\n",
        "\n",
        "# Endpoint for predictions\n",
        "@app.post(\"/predict\")\n",
        "async def predict(transaction: Transaction):\n",
        "    # Convert the transaction data into the format required by the model\n",
        "    features = np.array([[\n",
        "        transaction.Time, transaction.V1, transaction.V2, transaction.V3, transaction.V4, transaction.V5,\n",
        "        transaction.V6, transaction.V7, transaction.V8, transaction.V9, transaction.V10,\n",
        "        transaction.V11, transaction.V12, transaction.V13, transaction.V14, transaction.V15,\n",
        "        transaction.V16, transaction.V17, transaction.V18, transaction.V19, transaction.V20,\n",
        "        transaction.V21, transaction.V22, transaction.V23, transaction.V24, transaction.V25,\n",
        "        transaction.V26, transaction.V27, transaction.V28, transaction.Amount\n",
        "    ]])\n",
        "\n",
        "    # Make a prediction using the model\n",
        "    prediction = model.predict(features)\n",
        "\n",
        "    # Convert prediction to meaningful output\n",
        "    result = \"Fraud\" if prediction[0] == 1 else \"Not Fraud\"\n",
        "    return {\"prediction\": result}\n",
        "\n",
        "# Create a tunnel to the local FastAPI server using ngrok\n",
        "public_url = ngrok.connect(8000)\n",
        "print(f\"Public URL: {public_url}\")\n",
        "\n",
        "# Run the FastAPI app on Colab's local server\n",
        "uvicorn.run(app, host=\"0.0.0.0\", port=8000)\n"
      ],
      "metadata": {
        "colab": {
          "base_uri": "https://localhost:8080/"
        },
        "id": "8DSNEN1Guprd",
        "outputId": "98aa1d69-9cc9-4d7d-d3a9-093b3af8f8d9"
      },
      "execution_count": 7,
      "outputs": [
        {
          "output_type": "stream",
          "name": "stderr",
          "text": [
            "INFO:     Started server process [466]\n",
            "INFO:     Waiting for application startup.\n",
            "INFO:     Application startup complete.\n",
            "INFO:     Uvicorn running on http://0.0.0.0:8000 (Press CTRL+C to quit)\n"
          ]
        },
        {
          "output_type": "stream",
          "name": "stdout",
          "text": [
            "Public URL: NgrokTunnel: \"https://1d02-34-68-73-173.ngrok-free.app\" -> \"http://localhost:8000\"\n",
            "INFO:     103.198.173.34:0 - \"GET /predict HTTP/1.1\" 405 Method Not Allowed\n",
            "INFO:     103.198.173.34:0 - \"GET /favicon.ico HTTP/1.1\" 404 Not Found\n",
            "INFO:     35.230.177.8:0 - \"POST /predict HTTP/1.1\" 200 OK\n",
            "INFO:     35.230.177.8:0 - \"POST /predict HTTP/1.1\" 200 OK\n",
            "INFO:     35.230.177.8:0 - \"POST /predict HTTP/1.1\" 200 OK\n",
            "INFO:     35.230.177.8:0 - \"POST /predict HTTP/1.1\" 200 OK\n"
          ]
        },
        {
          "output_type": "stream",
          "name": "stderr",
          "text": [
            "INFO:     Shutting down\n",
            "INFO:     Waiting for application shutdown.\n",
            "INFO:     Application shutdown complete.\n",
            "INFO:     Finished server process [466]\n"
          ]
        }
      ]
    }
  ]
}