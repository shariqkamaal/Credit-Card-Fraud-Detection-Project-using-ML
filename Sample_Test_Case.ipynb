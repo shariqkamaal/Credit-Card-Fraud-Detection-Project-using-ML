{
  "nbformat": 4,
  "nbformat_minor": 0,
  "metadata": {
    "colab": {
      "provenance": []
    },
    "kernelspec": {
      "name": "python3",
      "display_name": "Python 3"
    },
    "language_info": {
      "name": "python"
    }
  },
  "cells": [
    {
      "cell_type": "code",
      "execution_count": 15,
      "metadata": {
        "colab": {
          "base_uri": "https://localhost:8080/"
        },
        "id": "qczAO4bp0KIK",
        "outputId": "3eb3b241-3e9e-4a1e-83ac-13ed4db2422b"
      },
      "outputs": [
        {
          "output_type": "stream",
          "name": "stdout",
          "text": [
            "{'prediction': 'Fraud'}\n"
          ]
        }
      ],
      "source": [
        "import requests\n",
        "import json\n",
        "\n",
        "\n",
        "url = \"https://1d02-34-68-73-173.ngrok-free.app/predict\"\n",
        "\n",
        "\n",
        "test_transaction = {\n",
        "    \"Time\": 0.5,\n",
        "    \"V1\": -1.0,\n",
        "    \"V2\": -0.5,\n",
        "    \"V3\": 1.0,\n",
        "    \"V4\": -0.2,\n",
        "    \"V5\": -1.5,\n",
        "    \"V6\": 0.0,\n",
        "    \"V7\": 0.8,\n",
        "    \"V8\": -0.9,\n",
        "    \"V9\": 0.5,\n",
        "    \"V10\": -0.7,\n",
        "    \"V11\": -0.5,\n",
        "    \"V12\": 1.2,\n",
        "    \"V13\": -0.3,\n",
        "    \"V14\": 0.4,\n",
        "    \"V15\": 0.1,\n",
        "    \"V16\": -0.2,\n",
        "    \"V17\": 1.5,\n",
        "    \"V18\": -0.4,\n",
        "    \"V19\": 0.7,\n",
        "    \"V20\": -1.0,\n",
        "    \"V21\": 0.6,\n",
        "    \"V22\": 0.9,\n",
        "    \"V23\": -0.3,\n",
        "    \"V24\": 0.4,\n",
        "    \"V25\": 0.2,\n",
        "    \"V26\": -0.1,\n",
        "    \"V27\": 1.3,\n",
        "    \"V28\": 0.6,\n",
        "    \"Amount\": 50.0\n",
        "}\n",
        "\n",
        "# Send the POST request\n",
        "response = requests.post(url, json=test_transaction)\n",
        "\n",
        "# Check the status code before attempting to decode JSON\n",
        "if response.status_code == 200:\n",
        "    # Successful response, decode JSON\n",
        "    print(response.json())\n",
        "else:\n",
        "    # Handle error (e.g., print error message and content)\n",
        "    print(f\"Error: {response.status_code}\")\n",
        "    print(response.text)"
      ]
    },
    {
      "cell_type": "code",
      "source": [
        "import requests\n",
        "import json\n",
        "\n",
        "\n",
        "url = \"https://1d02-34-68-73-173.ngrok-free.app/predict\"\n",
        "\n",
        "test_transaction = {\n",
        "    \"Time\": 1000.0,  # Example of a normal transaction time\n",
        "    \"V1\": 0.1,\n",
        "    \"V2\": 0.2,\n",
        "    \"V3\": -0.1,\n",
        "    \"V4\": 0.3,\n",
        "    \"V5\": -0.2,\n",
        "    \"V6\": 0.1,\n",
        "    \"V7\": 0.4,\n",
        "    \"V8\": 0.05,\n",
        "    \"V9\": -0.1,\n",
        "    \"V10\": 0.2,\n",
        "    \"V11\": 0.1,\n",
        "    \"V12\": 0.15,\n",
        "    \"V13\": 0.05,\n",
        "    \"V14\": -0.2,\n",
        "    \"V15\": 0.1,\n",
        "    \"V16\": 0.3,\n",
        "    \"V17\": 0.2,\n",
        "    \"V18\": -0.1,\n",
        "    \"V19\": 0.1,\n",
        "    \"V20\": -0.05,\n",
        "    \"V21\": 0.2,\n",
        "    \"V22\": 0.1,\n",
        "    \"V23\": -0.1,\n",
        "    \"V24\": 0.15,\n",
        "    \"V25\": 0.05,\n",
        "    \"V26\": 0.1,\n",
        "    \"V27\": 0.2,\n",
        "    \"V28\": 0.1,\n",
        "    \"Amount\": 10.0\n",
        "}\n",
        "\n",
        "# Send the POST request\n",
        "response = requests.post(url, json=test_transaction)\n",
        "\n",
        "# Check the status code and print the result\n",
        "if response.status_code == 200:\n",
        "    print(response.json())\n",
        "else:\n",
        "    print(f\"Error: {response.status_code}\")\n",
        "    print(response.text)\n"
      ],
      "metadata": {
        "colab": {
          "base_uri": "https://localhost:8080/"
        },
        "id": "N1OZb2EI6kxw",
        "outputId": "2b99ad38-4971-41a4-9f46-e23c63b1e5ef"
      },
      "execution_count": 17,
      "outputs": [
        {
          "output_type": "stream",
          "name": "stdout",
          "text": [
            "{'prediction': 'Not Fraud'}\n"
          ]
        }
      ]
    }
  ]
}